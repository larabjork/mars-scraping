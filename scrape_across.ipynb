{
 "cells": [
  {
   "cell_type": "code",
   "execution_count": 1,
   "id": "f94806fa-2aae-44e7-98de-5b3c1dfbdfe7",
   "metadata": {},
   "outputs": [],
   "source": [
    "from splinter import Browser\n",
    "from bs4 import BeautifulSoup as soup\n",
    "from webdriver_manager.chrome import ChromeDriverManager\n",
    "\n",
    "executable_path = {'executable_path': ChromeDriverManager().install()}\n",
    "browser = Browser('chrome', **executable_path, headless = False)\n",
    "\n",
    "url = 'http://quotes.toscrape.com'\n",
    "browser.visit(url)\n",
    "html = browser.html\n",
    "quote_soup = soup(html, 'html.parser')"
   ]
  },
  {
   "cell_type": "code",
   "execution_count": 3,
   "id": "2506da02-948d-441d-a15c-a227154e2103",
   "metadata": {},
   "outputs": [
    {
     "name": "stdout",
     "output_type": "stream",
     "text": [
      "“The world as we have created it is a process of our thinking. It cannot be changed without changing our thinking.”\n",
      "“It is our choices, Harry, that show what we truly are, far more than our abilities.”\n",
      "“There are only two ways to live your life. One is as though nothing is a miracle. The other is as though everything is a miracle.”\n",
      "“The person, be it gentleman or lady, who has not pleasure in a good novel, must be intolerably stupid.”\n",
      "“Imperfection is beauty, madness is genius and it's better to be absolutely ridiculous than absolutely boring.”\n",
      "“Try not to become a man of success. Rather become a man of value.”\n",
      "“It is better to be hated for what you are than to be loved for what you are not.”\n",
      "“I have not failed. I've just found 10,000 ways that won't work.”\n",
      "“A woman is like a tea bag; you never know how strong it is until it's in hot water.”\n",
      "“A day without sunshine is like, you know, night.”\n"
     ]
    }
   ],
   "source": [
    "# Scrape all quotes on a single page\n",
    "quotes = quote_soup.find_all('span', class_ = 'text')\n",
    "\n",
    "for quote in quotes:\n",
    "    print(quote.text)"
   ]
  },
  {
   "cell_type": "code",
   "execution_count": 10,
   "id": "876aba7c-194e-4ae5-bbff-5e00d13469e6",
   "metadata": {},
   "outputs": [
    {
     "name": "stdout",
     "output_type": "stream",
     "text": [
      "Quotes to Scrape\n",
      "Login\n",
      "(about)\n",
      "change\n",
      "deep-thoughts\n",
      "thinking\n",
      "world\n",
      "(about)\n",
      "abilities\n",
      "choices\n",
      "(about)\n",
      "inspirational\n",
      "life\n",
      "live\n",
      "miracle\n",
      "miracles\n",
      "(about)\n",
      "aliteracy\n",
      "books\n",
      "classic\n",
      "humor\n",
      "(about)\n",
      "be-yourself\n",
      "inspirational\n",
      "(about)\n",
      "adulthood\n",
      "success\n",
      "value\n",
      "(about)\n",
      "life\n",
      "love\n",
      "(about)\n",
      "edison\n",
      "failure\n",
      "inspirational\n",
      "paraphrased\n",
      "(about)\n",
      "misattributed-eleanor-roosevelt\n",
      "(about)\n",
      "humor\n",
      "obvious\n",
      "simile\n",
      "Next →\n",
      "love\n",
      "inspirational\n",
      "life\n",
      "humor\n",
      "books\n",
      "reading\n",
      "friendship\n",
      "friends\n",
      "truth\n",
      "simile\n",
      "GoodReads.com\n",
      "Scrapinghub\n"
     ]
    }
   ],
   "source": [
    "# Skill Drill - print a list of all links on page, make sure that Next button has no class or id\n",
    "# anchor_tags = quote_soup.find_all('a', class_ = \"\")\n",
    "anchor_tags = quote_soup.find_all('a',  id_ = \"\")\n",
    "\n",
    "for tag in anchor_tags:\n",
    "    print(tag.text)"
   ]
  },
  {
   "cell_type": "code",
   "execution_count": 7,
   "id": "8b24e2b5-9577-4120-82f8-75b559a946fa",
   "metadata": {},
   "outputs": [],
   "source": [
    "# Find the 'next' button according to its text\n",
    "browser.links.find_by_partial_text('Next').click()"
   ]
  },
  {
   "cell_type": "code",
   "execution_count": 11,
   "id": "c6bb0629-4689-406e-a41e-b7a4c8e34825",
   "metadata": {},
   "outputs": [],
   "source": [
    "browser.quit()"
   ]
  },
  {
   "cell_type": "code",
   "execution_count": null,
   "id": "4e01f0ec-45eb-4ad7-8b01-16d404817944",
   "metadata": {},
   "outputs": [],
   "source": []
  }
 ],
 "metadata": {
  "kernelspec": {
   "display_name": "PythonData",
   "language": "python",
   "name": "pythondata"
  },
  "language_info": {
   "codemirror_mode": {
    "name": "ipython",
    "version": 3
   },
   "file_extension": ".py",
   "mimetype": "text/x-python",
   "name": "python",
   "nbconvert_exporter": "python",
   "pygments_lexer": "ipython3",
   "version": "3.8.13"
  }
 },
 "nbformat": 4,
 "nbformat_minor": 5
}
