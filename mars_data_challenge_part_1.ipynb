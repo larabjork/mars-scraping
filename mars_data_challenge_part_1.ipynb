{
 "cells": [
  {
   "cell_type": "code",
   "execution_count": 1,
   "id": "683a1103-2c9f-499c-9739-424bda4d8299",
   "metadata": {},
   "outputs": [],
   "source": [
    "# import dependencies\n",
    "from splinter import Browser\n",
    "from bs4 import BeautifulSoup as soup\n",
    "from webdriver_manager.chrome import ChromeDriverManager"
   ]
  },
  {
   "cell_type": "code",
   "execution_count": 2,
   "id": "793967f6-c5c4-4232-8a62-7dba67ea3500",
   "metadata": {},
   "outputs": [],
   "source": [
    "# set up Splinter\n",
    "executable_path = {'executable_path': ChromeDriverManager().install()}\n",
    "browser = Browser('chrome', **executable_path, headless=False)"
   ]
  },
  {
   "cell_type": "code",
   "execution_count": 3,
   "id": "b02e62e3-66f3-4fc2-9706-6bd01fd68f16",
   "metadata": {},
   "outputs": [
    {
     "data": {
      "text/plain": [
       "True"
      ]
     },
     "execution_count": 3,
     "metadata": {},
     "output_type": "execute_result"
    }
   ],
   "source": [
    "# access Mars News website\n",
    "url = 'https://redplanetscience.com'\n",
    "browser.visit(url)\n",
    "\n",
    "# Optional delay for loading the page\n",
    "browser.is_element_present_by_css('div.list_text', wait_time = 1)"
   ]
  },
  {
   "cell_type": "code",
   "execution_count": 21,
   "id": "f491061a-8c24-4a0a-8932-574f84a91de7",
   "metadata": {},
   "outputs": [
    {
     "name": "stdout",
     "output_type": "stream",
     "text": [
      "[{'title': \"NASA's MAVEN Maps Winds in the Martian Upper Atmosphere that Mirror the Terrain Below and Gives Clues to Martian Climate\", 'preview': 'Researchers have created the first map of wind circulation in the upper atmosphere of a planet besides Earth, using data from NASA’s MAVEN spacecraft that were collected during the last two years.'}, {'title': \"How NASA's Mars Helicopter Will Reach the Red Planet's Surface\", 'preview': 'The small craft will seek to prove that powered, controlled flight is possible on another planet. But just getting it onto the surface of Mars will take a whole lot of ingenuity.'}, {'title': \"NASA's Curiosity Keeps Rolling As Team Operates Rover From Home\", 'preview': 'The team has learned to meet new challenges as they work remotely on the Mars mission.'}, {'title': \"NASA's Curiosity Mars Rover Snaps Its Highest-Resolution Panorama Yet\", 'preview': 'To go along with the stunning 1.8-billion-pixel image, a new video offers a sweeping view of the Red Planet.'}, {'title': \"NASA's Perseverance Rover Is Midway to Mars \", 'preview': \"Sometimes half measures can be a good thing – especially on a journey this long. The agency's latest rover only has about 146 million miles left to reach its destination.\"}, {'title': 'NASA to Broadcast Mars 2020 Perseverance Launch, Prelaunch Activities', 'preview': 'Starting July 27, news activities will cover everything from mission engineering and science to returning samples from Mars to, of course, the launch itself.'}, {'title': \"NASA InSight's 'Mole' Is Out of Sight\", 'preview': \"Now that the heat probe is just below the Martian surface, InSight's arm will scoop some additional soil on top to help it keep digging so it can take Mars' temperature.\"}, {'title': \"Air Deliveries Bring NASA's Perseverance Mars Rover Closer to Launch\", 'preview': \"A NASA Wallops Flight Facility cargo plane transported more than two tons of equipment — including the rover's sample collection tubes — to Florida for this summer's liftoff.\"}, {'title': \"Mars InSight Lander to Push on Top of the 'Mole'\", 'preview': 'Engineers have a plan for pushing down on the heat probe, which has been stuck at the Martian surface for a year.'}, {'title': \"Meet the People Behind NASA's Perseverance Rover\", 'preview': \"These are the scientists and engineers who built NASA's next Mars rover and who will guide it to a safe landing in Jezero Crater. \"}, {'title': 'NASA, ULA Launch Mars 2020 Perseverance Rover Mission to Red Planet', 'preview': \"The agency's Mars 2020 mission is on its way. It will land at Jezero Crater in about seven months, on Feb. 18, 2021. \"}, {'title': \"NASA's Curiosity Mars Rover Takes a New Selfie Before Record Climb\", 'preview': 'Along with capturing an image before its steepest ascent ever, the robotic explorer filmed its \"selfie stick,\" or robotic arm, in action.'}, {'title': 'Mars Scientists Investigate Ancient Life in Australia', 'preview': \"Teams with NASA's Mars 2020 and ESA's ExoMars practiced hunting for fossilized microbial life in the Australian Outback in preparation for their Red Planet missions. \"}, {'title': \"NASA's Mars 2020 Will Hunt for Microscopic Fossils\", 'preview': \"A new paper identifies a ring of minerals at the rover's landing site that are ideal for fossilizing microbial life.\"}, {'title': \"NASA's Mars Perseverance Rover Gets Its Sample Handling System\", 'preview': 'The system will be collecting and storing Martian rock and soil. Its installation marks another milestone in the march toward the July launch period.'}]\n"
     ]
    }
   ],
   "source": [
    "# Scrape title and preview/summary text of each article on landing page\n",
    "# To be stored into a Python dictionary\n",
    "\n",
    "# empty list (for dictionaries)\n",
    "article_list = []\n",
    "\n",
    "html = browser.html\n",
    "mars_soup = soup(html, 'html.parser')\n",
    "articles = mars_soup.find_all('div', class_ = 'list_text')\n",
    "    \n",
    "for article in articles:\n",
    "    title = article.find('div', class_ = 'content_title').text\n",
    "    preview = article.find('div', class_ = 'article_teaser_body').text\n",
    "\n",
    "    article_dict = {\n",
    "        'title': title,\n",
    "        'preview': preview\n",
    "    }\n",
    "\n",
    "    article_list.append(article_dict)\n",
    "\n",
    "print(article_list)\n"
   ]
  },
  {
   "cell_type": "code",
   "execution_count": 22,
   "id": "1362dd6e-6d8f-44c8-9847-988702297a59",
   "metadata": {},
   "outputs": [
    {
     "name": "stdout",
     "output_type": "stream",
     "text": [
      "[\n",
      "  {\n",
      "    \"title\": \"NASA's MAVEN Maps Winds in the Martian Upper Atmosphere that Mirror the Terrain Below and Gives Clues to Martian Climate\",\n",
      "    \"preview\": \"Researchers have created the first map of wind circulation in the upper atmosphere of a planet besides Earth, using data from NASA\\u2019s MAVEN spacecraft that were collected during the last two years.\"\n",
      "  },\n",
      "  {\n",
      "    \"title\": \"How NASA's Mars Helicopter Will Reach the Red Planet's Surface\",\n",
      "    \"preview\": \"The small craft will seek to prove that powered, controlled flight is possible on another planet. But just getting it onto the surface of Mars will take a whole lot of ingenuity.\"\n",
      "  },\n",
      "  {\n",
      "    \"title\": \"NASA's Curiosity Keeps Rolling As Team Operates Rover From Home\",\n",
      "    \"preview\": \"The team has learned to meet new challenges as they work remotely on the Mars mission.\"\n",
      "  },\n",
      "  {\n",
      "    \"title\": \"NASA's Curiosity Mars Rover Snaps Its Highest-Resolution Panorama Yet\",\n",
      "    \"preview\": \"To go along with the stunning 1.8-billion-pixel image, a new video offers a sweeping view of the Red Planet.\"\n",
      "  },\n",
      "  {\n",
      "    \"title\": \"NASA's Perseverance Rover Is Midway to Mars \",\n",
      "    \"preview\": \"Sometimes half measures can be a good thing \\u2013 especially on a journey this long. The agency's latest rover only has about 146 million miles left to reach its destination.\"\n",
      "  },\n",
      "  {\n",
      "    \"title\": \"NASA to Broadcast Mars 2020 Perseverance Launch, Prelaunch Activities\",\n",
      "    \"preview\": \"Starting July 27, news activities will cover everything from mission engineering and science to returning samples from Mars to, of course, the launch itself.\"\n",
      "  },\n",
      "  {\n",
      "    \"title\": \"NASA InSight's 'Mole' Is Out of Sight\",\n",
      "    \"preview\": \"Now that the heat probe is just below the Martian surface, InSight's arm will scoop some additional soil on top to help it keep digging so it can take Mars' temperature.\"\n",
      "  },\n",
      "  {\n",
      "    \"title\": \"Air Deliveries Bring NASA's Perseverance Mars Rover Closer to Launch\",\n",
      "    \"preview\": \"A NASA Wallops Flight Facility cargo plane transported more than two tons of equipment \\u2014 including the rover's sample collection tubes \\u2014 to Florida for this summer's liftoff.\"\n",
      "  },\n",
      "  {\n",
      "    \"title\": \"Mars InSight Lander to Push on Top of the 'Mole'\",\n",
      "    \"preview\": \"Engineers have a plan for pushing down on the heat probe, which has been stuck at the Martian surface for a year.\"\n",
      "  },\n",
      "  {\n",
      "    \"title\": \"Meet the People Behind NASA's Perseverance Rover\",\n",
      "    \"preview\": \"These are the scientists and engineers who built NASA's next Mars rover and who will guide it to a safe landing in Jezero Crater. \"\n",
      "  },\n",
      "  {\n",
      "    \"title\": \"NASA, ULA Launch Mars 2020 Perseverance Rover Mission to Red Planet\",\n",
      "    \"preview\": \"The agency's Mars 2020 mission is on its way. It will land at Jezero Crater in about seven months, on Feb. 18, 2021. \"\n",
      "  },\n",
      "  {\n",
      "    \"title\": \"NASA's Curiosity Mars Rover Takes a New Selfie Before Record Climb\",\n",
      "    \"preview\": \"Along with capturing an image before its steepest ascent ever, the robotic explorer filmed its \\\"selfie stick,\\\" or robotic arm, in action.\"\n",
      "  },\n",
      "  {\n",
      "    \"title\": \"Mars Scientists Investigate Ancient Life in Australia\",\n",
      "    \"preview\": \"Teams with NASA's Mars 2020 and ESA's ExoMars practiced hunting for fossilized microbial life in the Australian Outback in preparation for their Red Planet missions. \"\n",
      "  },\n",
      "  {\n",
      "    \"title\": \"NASA's Mars 2020 Will Hunt for Microscopic Fossils\",\n",
      "    \"preview\": \"A new paper identifies a ring of minerals at the rover's landing site that are ideal for fossilizing microbial life.\"\n",
      "  },\n",
      "  {\n",
      "    \"title\": \"NASA's Mars Perseverance Rover Gets Its Sample Handling System\",\n",
      "    \"preview\": \"The system will be collecting and storing Martian rock and soil. Its installation marks another milestone in the march toward the July launch period.\"\n",
      "  }\n",
      "]\n"
     ]
    }
   ],
   "source": [
    "# Export to JSON\n",
    "import json\n",
    "\n",
    "article_json = json.dumps(article_list, indent = 2)\n",
    "\n",
    "print(article_json)"
   ]
  },
  {
   "cell_type": "code",
   "execution_count": 23,
   "id": "28500827-e7d3-488c-83f7-e26bd32a7d8d",
   "metadata": {},
   "outputs": [],
   "source": [
    "browser.quit()"
   ]
  },
  {
   "cell_type": "code",
   "execution_count": null,
   "id": "3b5b4cd5-59e4-4090-b239-b83c1a017398",
   "metadata": {},
   "outputs": [],
   "source": []
  }
 ],
 "metadata": {
  "kernelspec": {
   "display_name": "PythonData",
   "language": "python",
   "name": "pythondata"
  },
  "language_info": {
   "codemirror_mode": {
    "name": "ipython",
    "version": 3
   },
   "file_extension": ".py",
   "mimetype": "text/x-python",
   "name": "python",
   "nbconvert_exporter": "python",
   "pygments_lexer": "ipython3",
   "version": "3.8.13"
  }
 },
 "nbformat": 4,
 "nbformat_minor": 5
}
