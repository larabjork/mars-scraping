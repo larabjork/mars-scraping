{
 "cells": [
  {
   "cell_type": "code",
   "execution_count": 2,
   "id": "978efb14-9c18-4a25-8eed-ef783e07c3ec",
   "metadata": {},
   "outputs": [
    {
     "name": "stderr",
     "output_type": "stream",
     "text": [
      "[WDM] - Downloading: 100%|█████████████████| 8.41M/8.41M [00:00<00:00, 33.8MB/s]\n"
     ]
    }
   ],
   "source": [
    "from splinter import Browser\n",
    "from bs4 import BeautifulSoup as soup\n",
    "from webdriver_manager.chrome import ChromeDriverManager\n",
    "\n",
    "# Set up Splinter\n",
    "executable_path = {'executable_path': ChromeDriverManager().install()}\n",
    "browser = Browser('chrome', **executable_path, headless = False)\n",
    "\n",
    "url = 'http://books.toscrape.com'\n",
    "browser.visit(url)\n",
    "html = browser.html\n",
    "book_soup = soup(html, 'html.parser')\n"
   ]
  },
  {
   "cell_type": "code",
   "execution_count": 20,
   "id": "73bff402-73f6-4bcf-894f-9045f7554fcf",
   "metadata": {},
   "outputs": [
    {
     "data": {
      "text/plain": [
       "bs4.BeautifulSoup"
      ]
     },
     "execution_count": 20,
     "metadata": {},
     "output_type": "execute_result"
    }
   ],
   "source": [
    "# Scrape the book URLs from the first page\n",
    "import re\n",
    "\n",
    "\n",
    "\n",
    "book_headings = book_soup.find_all('ol', class_='row')\n",
    "type(book_soup)\n",
    "\n",
    "# book_urls = book_headings.find_all('a', href = re.compile('catalogue/'))\n",
    "# print(book_urls)\n",
    "# # [print(url['href']) for url in book_urls]"
   ]
  },
  {
   "cell_type": "code",
   "execution_count": 21,
   "id": "2e35c650-fc57-4213-acc6-80c4b84332a3",
   "metadata": {},
   "outputs": [],
   "source": [
    "browser.quit()"
   ]
  },
  {
   "cell_type": "code",
   "execution_count": null,
   "id": "fc85fe36-5e2a-45cb-af25-864614e9b79a",
   "metadata": {},
   "outputs": [],
   "source": []
  }
 ],
 "metadata": {
  "kernelspec": {
   "display_name": "PythonData",
   "language": "python",
   "name": "pythondata"
  },
  "language_info": {
   "codemirror_mode": {
    "name": "ipython",
    "version": 3
   },
   "file_extension": ".py",
   "mimetype": "text/x-python",
   "name": "python",
   "nbconvert_exporter": "python",
   "pygments_lexer": "ipython3",
   "version": "3.8.13"
  }
 },
 "nbformat": 4,
 "nbformat_minor": 5
}
